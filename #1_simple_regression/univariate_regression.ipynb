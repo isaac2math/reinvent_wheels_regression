{
 "cells": [
  {
   "cell_type": "code",
   "execution_count": 11,
   "id": "c5f5b6da-d934-4b5a-8742-90f66bab4796",
   "metadata": {},
   "outputs": [],
   "source": [
    "%reset -f\n",
    "\n",
    "import numpy  as np\n",
    "import scipy  as sp\n",
    "import pandas as pd\n",
    "\n",
    "import statsmodels.api   as sm\n",
    "import matplotlib.pyplot as plt\n"
   ]
  },
  {
   "cell_type": "code",
   "execution_count": 12,
   "id": "ed6b7ce4-e12c-4fe3-a42b-edd34139ac08",
   "metadata": {},
   "outputs": [],
   "source": [
    "df = pd.read_csv(\"HPRICE3.csv\")"
   ]
  },
  {
   "cell_type": "code",
   "execution_count": 92,
   "id": "eb2aebc8-e921-445f-9a5a-13f6c10349ff",
   "metadata": {},
   "outputs": [
    {
     "data": {
      "text/html": [
       "<div>\n",
       "<style scoped>\n",
       "    .dataframe tbody tr th:only-of-type {\n",
       "        vertical-align: middle;\n",
       "    }\n",
       "\n",
       "    .dataframe tbody tr th {\n",
       "        vertical-align: top;\n",
       "    }\n",
       "\n",
       "    .dataframe thead th {\n",
       "        text-align: right;\n",
       "    }\n",
       "</style>\n",
       "<table border=\"1\" class=\"dataframe\">\n",
       "  <thead>\n",
       "    <tr style=\"text-align: right;\">\n",
       "      <th></th>\n",
       "      <th>rooms</th>\n",
       "      <th>lprice</th>\n",
       "    </tr>\n",
       "  </thead>\n",
       "  <tbody>\n",
       "    <tr>\n",
       "      <th>0</th>\n",
       "      <td>7</td>\n",
       "      <td>11.002100</td>\n",
       "    </tr>\n",
       "    <tr>\n",
       "      <th>1</th>\n",
       "      <td>6</td>\n",
       "      <td>10.596635</td>\n",
       "    </tr>\n",
       "    <tr>\n",
       "      <th>2</th>\n",
       "      <td>6</td>\n",
       "      <td>10.434115</td>\n",
       "    </tr>\n",
       "    <tr>\n",
       "      <th>3</th>\n",
       "      <td>5</td>\n",
       "      <td>11.065075</td>\n",
       "    </tr>\n",
       "    <tr>\n",
       "      <th>4</th>\n",
       "      <td>5</td>\n",
       "      <td>10.691945</td>\n",
       "    </tr>\n",
       "  </tbody>\n",
       "</table>\n",
       "</div>"
      ],
      "text/plain": [
       "   rooms     lprice\n",
       "0      7  11.002100\n",
       "1      6  10.596635\n",
       "2      6  10.434115\n",
       "3      5  11.065075\n",
       "4      5  10.691945"
      ]
     },
     "execution_count": 92,
     "metadata": {},
     "output_type": "execute_result"
    }
   ],
   "source": [
    "df[['rooms','lprice']].head()"
   ]
  },
  {
   "cell_type": "code",
   "execution_count": 94,
   "id": "3c04e870-5e58-433c-ae0b-fa3f0ad1aa69",
   "metadata": {},
   "outputs": [
    {
     "data": {
      "text/html": [
       "<div>\n",
       "<style scoped>\n",
       "    .dataframe tbody tr th:only-of-type {\n",
       "        vertical-align: middle;\n",
       "    }\n",
       "\n",
       "    .dataframe tbody tr th {\n",
       "        vertical-align: top;\n",
       "    }\n",
       "\n",
       "    .dataframe thead th {\n",
       "        text-align: right;\n",
       "    }\n",
       "</style>\n",
       "<table border=\"1\" class=\"dataframe\">\n",
       "  <thead>\n",
       "    <tr style=\"text-align: right;\">\n",
       "      <th></th>\n",
       "      <th>rooms</th>\n",
       "      <th>lprice</th>\n",
       "    </tr>\n",
       "  </thead>\n",
       "  <tbody>\n",
       "    <tr>\n",
       "      <th>count</th>\n",
       "      <td>321.000000</td>\n",
       "      <td>321.000000</td>\n",
       "    </tr>\n",
       "    <tr>\n",
       "      <th>mean</th>\n",
       "      <td>6.585670</td>\n",
       "      <td>11.378118</td>\n",
       "    </tr>\n",
       "    <tr>\n",
       "      <th>std</th>\n",
       "      <td>0.901204</td>\n",
       "      <td>0.438174</td>\n",
       "    </tr>\n",
       "    <tr>\n",
       "      <th>min</th>\n",
       "      <td>4.000000</td>\n",
       "      <td>10.165852</td>\n",
       "    </tr>\n",
       "    <tr>\n",
       "      <th>25%</th>\n",
       "      <td>6.000000</td>\n",
       "      <td>11.082143</td>\n",
       "    </tr>\n",
       "    <tr>\n",
       "      <th>50%</th>\n",
       "      <td>7.000000</td>\n",
       "      <td>11.360939</td>\n",
       "    </tr>\n",
       "    <tr>\n",
       "      <th>75%</th>\n",
       "      <td>7.000000</td>\n",
       "      <td>11.695247</td>\n",
       "    </tr>\n",
       "    <tr>\n",
       "      <th>max</th>\n",
       "      <td>10.000000</td>\n",
       "      <td>12.611538</td>\n",
       "    </tr>\n",
       "  </tbody>\n",
       "</table>\n",
       "</div>"
      ],
      "text/plain": [
       "            rooms      lprice\n",
       "count  321.000000  321.000000\n",
       "mean     6.585670   11.378118\n",
       "std      0.901204    0.438174\n",
       "min      4.000000   10.165852\n",
       "25%      6.000000   11.082143\n",
       "50%      7.000000   11.360939\n",
       "75%      7.000000   11.695247\n",
       "max     10.000000   12.611538"
      ]
     },
     "execution_count": 94,
     "metadata": {},
     "output_type": "execute_result"
    }
   ],
   "source": [
    "df[['rooms','lprice']].describe()"
   ]
  },
  {
   "cell_type": "code",
   "execution_count": 22,
   "id": "d25cc4bb-8409-48c3-bdc7-219515a41651",
   "metadata": {},
   "outputs": [
    {
     "name": "stdout",
     "output_type": "stream",
     "text": [
      "                            OLS Regression Results                            \n",
      "==============================================================================\n",
      "Dep. Variable:                 lprice   R-squared:                       0.243\n",
      "Model:                            OLS   Adj. R-squared:                  0.241\n",
      "Method:                 Least Squares   F-statistic:                     102.6\n",
      "Date:                Tue, 12 Oct 2021   Prob (F-statistic):           4.32e-21\n",
      "Time:                        09:20:12   Log-Likelihood:                -145.35\n",
      "No. Observations:                 321   AIC:                             294.7\n",
      "Df Residuals:                     319   BIC:                             302.2\n",
      "Df Model:                           1                                         \n",
      "Covariance Type:            nonrobust                                         \n",
      "==============================================================================\n",
      "                 coef    std err          t      P>|t|      [0.025      0.975]\n",
      "------------------------------------------------------------------------------\n",
      "const          9.7985      0.157     62.254      0.000       9.489      10.108\n",
      "rooms          0.2399      0.024     10.129      0.000       0.193       0.286\n",
      "==============================================================================\n",
      "Omnibus:                        2.258   Durbin-Watson:                   0.896\n",
      "Prob(Omnibus):                  0.323   Jarque-Bera (JB):                2.133\n",
      "Skew:                          -0.084   Prob(JB):                        0.344\n",
      "Kurtosis:                       3.363   Cond. No.                         50.2\n",
      "==============================================================================\n",
      "\n",
      "Notes:\n",
      "[1] Standard Errors assume that the covariance matrix of the errors is correctly specified.\n"
     ]
    }
   ],
   "source": [
    "Xvar = df[['rooms']]\n",
    "Yvar = df[['lprice']]\n",
    "Xvar = sm.add_constant(Xvar)\n",
    "\n",
    "reg = sm.OLS(Yvar, Xvar)\n",
    "\n",
    "result = reg.fit()\n",
    "\n",
    "print(result.summary())"
   ]
  },
  {
   "cell_type": "code",
   "execution_count": null,
   "id": "0a980232-bed2-413e-bd24-970b70eb22ba",
   "metadata": {},
   "outputs": [],
   "source": []
  },
  {
   "cell_type": "code",
   "execution_count": 45,
   "id": "1f065907-d9c6-4a7d-9d89-adfe462e267d",
   "metadata": {},
   "outputs": [
    {
     "data": {
      "text/plain": [
       "array([[0.19199684, 0.19480189],\n",
       "       [0.19480189, 0.812169  ]])"
      ]
     },
     "execution_count": 45,
     "metadata": {},
     "output_type": "execute_result"
    }
   ],
   "source": [
    "np.cov(df['lprice'], df['rooms']) "
   ]
  },
  {
   "cell_type": "code",
   "execution_count": 46,
   "id": "cb8e0ea3-c59e-4502-a539-8eed5573deb2",
   "metadata": {},
   "outputs": [
    {
     "data": {
      "text/plain": [
       "0.19480188933021805"
      ]
     },
     "execution_count": 46,
     "metadata": {},
     "output_type": "execute_result"
    }
   ],
   "source": [
    "np.cov(df['lprice'], df['rooms'])[1,0]"
   ]
  },
  {
   "cell_type": "code",
   "execution_count": 47,
   "id": "41d00798-2f50-4053-8c8a-3efa15d89dd5",
   "metadata": {},
   "outputs": [
    {
     "data": {
      "text/plain": [
       "array(0.812169)"
      ]
     },
     "execution_count": 47,
     "metadata": {},
     "output_type": "execute_result"
    }
   ],
   "source": [
    "np.cov(df['rooms'])"
   ]
  },
  {
   "cell_type": "code",
   "execution_count": 51,
   "id": "bf1ec015-db30-4f79-916c-f98c91e61024",
   "metadata": {},
   "outputs": [
    {
     "data": {
      "text/plain": [
       "array(0.812169)"
      ]
     },
     "execution_count": 51,
     "metadata": {},
     "output_type": "execute_result"
    }
   ],
   "source": [
    "np.cov(df['rooms'])"
   ]
  },
  {
   "cell_type": "code",
   "execution_count": 58,
   "id": "e963cb99-db9c-41ab-89ba-13cea6907061",
   "metadata": {},
   "outputs": [
    {
     "name": "stdout",
     "output_type": "stream",
     "text": [
      "the slope of rooms is  0.23985388334571905\n"
     ]
    }
   ],
   "source": [
    "b1 = np.cov(df['lprice'], df['rooms'])[1,0] / np.cov(df['rooms'])\n",
    "\n",
    "print(\"the slope of rooms is \", b1)"
   ]
  },
  {
   "cell_type": "code",
   "execution_count": 59,
   "id": "03273406-49e3-45dd-872a-8df08fe8c9e0",
   "metadata": {},
   "outputs": [
    {
     "name": "stdout",
     "output_type": "stream",
     "text": [
      "the intercept of regression equation is  9.798519525255918\n"
     ]
    }
   ],
   "source": [
    "b0 = np.mean(df['lprice']) - np.mean(df['rooms']) * b1\n",
    "print(\"the intercept of regression equation is \", b0)"
   ]
  },
  {
   "cell_type": "code",
   "execution_count": 67,
   "id": "0d8a87e8-57d0-4302-a67a-5f65ba849afd",
   "metadata": {},
   "outputs": [
    {
     "data": {
      "text/plain": [
       "count    321.000000\n",
       "mean      11.378118\n",
       "std        0.216157\n",
       "min       10.757935\n",
       "25%       11.237643\n",
       "50%       11.477497\n",
       "75%       11.477497\n",
       "max       12.197058\n",
       "Name: yhat, dtype: float64"
      ]
     },
     "execution_count": 67,
     "metadata": {},
     "output_type": "execute_result"
    }
   ],
   "source": [
    "df['yhat'] = b0 + b1 * df['rooms']\n",
    "\n",
    "df['yhat'].describe()"
   ]
  },
  {
   "cell_type": "code",
   "execution_count": 68,
   "id": "4becda00-4eaa-404e-98c8-541cb794ec51",
   "metadata": {},
   "outputs": [
    {
     "data": {
      "text/plain": [
       "<AxesSubplot:>"
      ]
     },
     "execution_count": 68,
     "metadata": {},
     "output_type": "execute_result"
    },
    {
     "data": {
      "image/png": "[encoded data removed]",
      "text/plain": [
       "<Figure size 432x288 with 1 Axes>"
      ]
     },
     "metadata": {
      "needs_background": "light"
     },
     "output_type": "display_data"
    }
   ],
   "source": [
    "df['yhat'].hist()"
   ]
  },
  {
   "cell_type": "code",
   "execution_count": 69,
   "id": "7c27387a-792d-41a1-929c-244c02ccadc8",
   "metadata": {},
   "outputs": [
    {
     "data": {
      "text/plain": [
       "count    3.210000e+02\n",
       "mean     1.527335e-15\n",
       "std      3.811468e-01\n",
       "min     -1.311645e+00\n",
       "25%     -2.259357e-01\n",
       "50%     -2.644671e-02\n",
       "75%      2.448242e-01\n",
       "max      1.134041e+00\n",
       "Name: uhat, dtype: float64"
      ]
     },
     "execution_count": 69,
     "metadata": {},
     "output_type": "execute_result"
    }
   ],
   "source": [
    "df['uhat'] = df['lprice'] - df['yhat']\n",
    "\n",
    "df['uhat'].describe()"
   ]
  },
  {
   "cell_type": "code",
   "execution_count": 70,
   "id": "bbcf17f6-0809-42b9-b4ab-a7fafd2c48f5",
   "metadata": {},
   "outputs": [
    {
     "data": {
      "text/plain": [
       "<AxesSubplot:>"
      ]
     },
     "execution_count": 70,
     "metadata": {},
     "output_type": "execute_result"
    },
    {
     "data": {
      "image/png": "[encoded data removed]",
      "text/plain": [
       "<Figure size 432x288 with 1 Axes>"
      ]
     },
     "metadata": {
      "needs_background": "light"
     },
     "output_type": "display_data"
    }
   ],
   "source": [
    "df['uhat'].hist()"
   ]
  },
  {
   "cell_type": "code",
   "execution_count": 110,
   "id": "dd6f4690-fee9-4efe-b4fb-78ad0bb8cb09",
   "metadata": {},
   "outputs": [
    {
     "name": "stdout",
     "output_type": "stream",
     "text": [
      "the TSS of the regression is  61.438988950382985\n"
     ]
    }
   ],
   "source": [
    "TSS = np.cov(df['lprice']) * (len(df['lprice']) - 1)\n",
    "\n",
    "print(\"the TSS of the regression is \", TSS)"
   ]
  },
  {
   "cell_type": "code",
   "execution_count": 111,
   "id": "d7757f03-7605-4498-8076-596e205feb15",
   "metadata": {},
   "outputs": [
    {
     "name": "stdout",
     "output_type": "stream",
     "text": [
      "the RSS of the regression is  46.48731226592352\n",
      "the variance of u_hat is  0.14572825161731512\n",
      "the MSE of the regression is  0.3817436988573814\n"
     ]
    }
   ],
   "source": [
    "RSS = np.cov(df['uhat']) * (len(df['lprice']) - 1)\n",
    "\n",
    "var_u = RSS/(len(df['lprice']) - 1 - 1)\n",
    "\n",
    "MSE = np.sqrt(var_u)\n",
    "\n",
    "print(\"the RSS of the regression is \", RSS)\n",
    "print(\"the variance of u_hat is \", var_u)\n",
    "print(\"the MSE of the regression is \", MSE)"
   ]
  },
  {
   "cell_type": "code",
   "execution_count": 151,
   "id": "cfaac59c-9b48-4599-8aaf-d7cfb8d2a87d",
   "metadata": {},
   "outputs": [
    {
     "name": "stdout",
     "output_type": "stream",
     "text": [
      "the ESS of the regression is  14.951676684459464\n"
     ]
    }
   ],
   "source": [
    "ESS = TSS - RSS\n",
    "\n",
    "print(\"the ESS of the regression is \", ESS)"
   ]
  },
  {
   "cell_type": "code",
   "execution_count": 113,
   "id": "9ba122dd-ef71-4437-aa88-64a28c571d8f",
   "metadata": {},
   "outputs": [
    {
     "name": "stdout",
     "output_type": "stream",
     "text": [
      "the R2 of the regression is  0.2433581173761529\n"
     ]
    }
   ],
   "source": [
    "R2 = ESS / TSS\n",
    "\n",
    "print(\"the R2 of the regression is \", R2)"
   ]
  },
  {
   "cell_type": "code",
   "execution_count": 114,
   "id": "213aaabc-c7a5-431c-93b3-481f16271b21",
   "metadata": {},
   "outputs": [
    {
     "data": {
      "text/plain": [
       "0.24335811737615287"
      ]
     },
     "execution_count": 114,
     "metadata": {},
     "output_type": "execute_result"
    }
   ],
   "source": [
    "1 - RSS / TSS"
   ]
  },
  {
   "cell_type": "code",
   "execution_count": 115,
   "id": "d01a137a-4c3f-43b2-984e-444d76d9bc6b",
   "metadata": {},
   "outputs": [
    {
     "name": "stdout",
     "output_type": "stream",
     "text": [
      "the adjusted R2 of the regression is  0.24098619924880538\n"
     ]
    }
   ],
   "source": [
    "R2_a = 1 - (RSS/(len(df['lprice']) - 1 - 1)) / (TSS/(len(df['lprice']) - 1))\n",
    "\n",
    "print(\"the adjusted R2 of the regression is \", R2_a)"
   ]
  },
  {
   "cell_type": "code",
   "execution_count": 120,
   "id": "cb1a19b5-0955-43ee-aca8-e194bba6c787",
   "metadata": {},
   "outputs": [
    {
     "data": {
      "text/plain": [
       "0.02367956297520075"
      ]
     },
     "execution_count": 120,
     "metadata": {},
     "output_type": "execute_result"
    }
   ],
   "source": [
    "se_b1 = np.sqrt( var_u / ( np.cov(df['rooms']) * (len(df['rooms']) -1) ) )\n",
    "se_b1"
   ]
  },
  {
   "cell_type": "code",
   "execution_count": 121,
   "id": "2d32e571-b70d-44bb-aca9-b453f310504f",
   "metadata": {},
   "outputs": [
    {
     "data": {
      "text/plain": [
       "10.129151606257025"
      ]
     },
     "execution_count": 121,
     "metadata": {},
     "output_type": "execute_result"
    }
   ],
   "source": [
    "t_b1 = b1 / se_b1\n",
    "t_b1"
   ]
  },
  {
   "cell_type": "code",
   "execution_count": 123,
   "id": "6384e11c-d301-426b-aa15-e9ef79aece0d",
   "metadata": {},
   "outputs": [
    {
     "data": {
      "text/plain": [
       "4.320029628125147e-21"
      ]
     },
     "execution_count": 123,
     "metadata": {},
     "output_type": "execute_result"
    }
   ],
   "source": [
    "sp.stats.t.sf(np.abs(t_b1), len(df['rooms']) - 1 - 1) * 2"
   ]
  },
  {
   "cell_type": "code",
   "execution_count": 201,
   "id": "d841dcba-31c9-4e87-a107-bb6f2ef6a2c4",
   "metadata": {},
   "outputs": [
    {
     "data": {
      "image/png": "[encoded data removed]",
      "text/plain": [
       "<Figure size 432x288 with 1 Axes>"
      ]
     },
     "metadata": {
      "needs_background": "light"
     },
     "output_type": "display_data"
    }
   ],
   "source": [
    "from scipy.stats import t\n",
    "\n",
    "fig= plt.figure()\n",
    "\n",
    "df = 30\n",
    "\n",
    "x = np.linspace(t.ppf(0.001, df), t.ppf(0.999, df), 100)\n",
    "\n",
    "plt.plot(x, t.pdf(x, df), 'r-', lw=5, alpha=0.6, label='t pdf')\n",
    "\n",
    "rv = t(df)\n",
    "plt.plot(x, rv.pdf(x), 'k-', lw=2, label='frozen pdf')\n",
    "\n",
    "r = t.rvs(df, size=1000)\n",
    "\n",
    "plt.hist(r, density=True, histtype='stepfilled', alpha=0.2)\n",
    "plt.legend(loc='best', frameon=False)\n",
    "\n",
    "plt.xlim(-3,3)\n",
    "\n",
    "plt.show()"
   ]
  },
  {
   "cell_type": "code",
   "execution_count": 125,
   "id": "4991aee4-69e6-4d78-ab57-0c7315648fe6",
   "metadata": {},
   "outputs": [
    {
     "name": "stdout",
     "output_type": "stream",
     "text": [
      "the upper bound of population slope is  0.28644172773256615\n",
      "the lower bound of population slope is  0.19326603895887196\n"
     ]
    }
   ],
   "source": [
    "c_up = sp.stats.t.ppf(0.975, len(df['rooms']) - 1 - 1)\n",
    "c_lo = sp.stats.t.ppf(0.025, len(df['rooms']) - 1 - 1)\n",
    "\n",
    "b1_up = b1 + c_up * se_b1\n",
    "b1_lo = b1 + c_lo * se_b1\n",
    "\n",
    "print(\"the upper bound of population slope is \", b1_up)\n",
    "print(\"the lower bound of population slope is \", b1_lo)"
   ]
  },
  {
   "cell_type": "code",
   "execution_count": 146,
   "id": "fdb8497f-25db-4cbe-b94c-8972b45430a8",
   "metadata": {},
   "outputs": [
    {
     "data": {
      "text/plain": [
       "0.15739462862619946"
      ]
     },
     "execution_count": 146,
     "metadata": {},
     "output_type": "execute_result"
    }
   ],
   "source": [
    "se_b0 = np. sqrt( var_u * ( 1 / len(df['rooms']) + np.power(np.mean(df['rooms']),2) / (np.cov(df['rooms']) * (len(df['rooms']) - 1)) ) )\n",
    "\n",
    "se_b0"
   ]
  },
  {
   "cell_type": "code",
   "execution_count": 147,
   "id": "da56ce7b-b20f-4f64-ac72-4c2aa859f8f4",
   "metadata": {},
   "outputs": [
    {
     "data": {
      "text/plain": [
       "62.25447215563291"
      ]
     },
     "execution_count": 147,
     "metadata": {},
     "output_type": "execute_result"
    }
   ],
   "source": [
    "t_b0 = b0 / se_b0\n",
    "t_b0"
   ]
  },
  {
   "cell_type": "code",
   "execution_count": 148,
   "id": "2c4411a3-02a2-4dcb-8fec-8b33f481a285",
   "metadata": {},
   "outputs": [
    {
     "data": {
      "text/plain": [
       "1.5919185397026186e-180"
      ]
     },
     "execution_count": 148,
     "metadata": {},
     "output_type": "execute_result"
    }
   ],
   "source": [
    "sp.stats.t.sf(np.abs(t_b0), len(df['rooms']) - 1 - 1) * 2"
   ]
  },
  {
   "cell_type": "code",
   "execution_count": 149,
   "id": "5ba2a0d3-2a0e-442c-8303-b1532017de20",
   "metadata": {},
   "outputs": [
    {
     "name": "stdout",
     "output_type": "stream",
     "text": [
      "the upper bound of population intercept is  10.108182185561024\n",
      "the lower bound of population intercept is  9.488856864950812\n"
     ]
    }
   ],
   "source": [
    "b0_up = b0 + c_up * se_b0\n",
    "b0_lo = b0 + c_lo * se_b0\n",
    "\n",
    "print(\"the upper bound of population intercept is \", b0_up)\n",
    "print(\"the lower bound of population intercept is \", b0_lo)"
   ]
  },
  {
   "cell_type": "code",
   "execution_count": 162,
   "id": "053cd819-fab7-44c2-89cb-7969f192321a",
   "metadata": {},
   "outputs": [
    {
     "name": "stdout",
     "output_type": "stream",
     "text": [
      "the log likelihood of regression is  -145.35439421064217\n"
     ]
    }
   ],
   "source": [
    "log_lh = np.sum(np.log(sp.stats.norm.pdf(df['uhat'], loc=0, scale=MSE)))\n",
    "print(\"the log likelihood of regression is \", log_lh)"
   ]
  },
  {
   "cell_type": "code",
   "execution_count": 163,
   "id": "0267c54a-2c71-4604-9042-6845f0682669",
   "metadata": {},
   "outputs": [
    {
     "name": "stdout",
     "output_type": "stream",
     "text": [
      "the AIC of regression is  294.70878842128434\n"
     ]
    }
   ],
   "source": [
    "AIC = -1 * log_lh *2 + 2 * 2\n",
    "print(\"the AIC of regression is \", AIC)"
   ]
  },
  {
   "cell_type": "code",
   "execution_count": 164,
   "id": "6acb458a-a50e-4db8-9d93-402eec70b473",
   "metadata": {},
   "outputs": [
    {
     "name": "stdout",
     "output_type": "stream",
     "text": [
      "the AIC of regression is  302.2516706675444\n"
     ]
    }
   ],
   "source": [
    "BIC = -1 * log_lh *2 + 2 * np.log(len(df['rooms']))\n",
    "print(\"the AIC of regression is \", BIC)"
   ]
  },
  {
   "cell_type": "code",
   "execution_count": 174,
   "id": "a8f0712d-a918-4c7d-9927-5d2ba3e03ad7",
   "metadata": {},
   "outputs": [
    {
     "data": {
      "image/png": "[encoded data removed]",
      "text/plain": [
       "<Figure size 432x288 with 1 Axes>"
      ]
     },
     "metadata": {
      "needs_background": "light"
     },
     "output_type": "display_data"
    }
   ],
   "source": [
    "fig1 = plt.figure()\n",
    "\n",
    "plt.scatter(df['rooms'], df['lprice'])\n",
    "plt.plot(df['rooms'], df['yhat'], color='red')\n",
    "plt.xlabel(\"rooms\")\n",
    "plt.ylabel(\"lprice\")\n",
    "\n",
    "plt.show()"
   ]
  },
  {
   "cell_type": "code",
   "execution_count": 178,
   "id": "3f41bb84-e6a1-4e70-90b4-43062fb06c48",
   "metadata": {},
   "outputs": [
    {
     "name": "stdout",
     "output_type": "stream",
     "text": [
      "the default F value of regression is  102.59971226253934\n"
     ]
    }
   ],
   "source": [
    "Fval_num = (TSS - RSS)/(1)\n",
    "Fval_den = RSS/(len(df['lprice']) -1 -1)\n",
    "Fval = Fval_num / Fval_den\n",
    "\n",
    "print(\"the default F value of regression is \", Fval)"
   ]
  },
  {
   "cell_type": "code",
   "execution_count": 179,
   "id": "adea382c-b21d-4bb9-9158-f6a5c0e4b5c6",
   "metadata": {},
   "outputs": [
    {
     "name": "stdout",
     "output_type": "stream",
     "text": [
      "the p value for default F statistic is  4.320029628124904e-21\n"
     ]
    }
   ],
   "source": [
    "Pval_F = sp.stats.f.sf(Fval, 1, len(df['lprice']) -1 -1)\n",
    "\n",
    "print(\"the p value for default F statistic is \", Pval_F)"
   ]
  },
  {
   "cell_type": "code",
   "execution_count": 195,
   "id": "051d82c2-d211-443a-9d9a-ed508a50ed0e",
   "metadata": {},
   "outputs": [
    {
     "data": {
      "image/png": "[encoded data removed]",
      "text/plain": [
       "<Figure size 432x288 with 1 Axes>"
      ]
     },
     "metadata": {
      "needs_background": "light"
     },
     "output_type": "display_data"
    }
   ],
   "source": [
    "from scipy.stats import f\n",
    "\n",
    "fig, ax = plt.subplots(1, 1)\n",
    "dfn, dfd = 30, 50\n",
    "\n",
    "x = np.linspace(f.ppf(0.01, dfn, dfd), f.ppf(0.99, dfn, dfd), 100)\n",
    "\n",
    "ax.plot(x, f.pdf(x, dfn, dfd), 'r-', lw=5, alpha=0.6, label='f pdf')\n",
    "\n",
    "rv = f(dfn, dfd)\n",
    "\n",
    "ax.plot(x, rv.pdf(x), 'k-', lw=2, label='frozen pdf')\n",
    "\n",
    "r = f.rvs(dfn, dfd, size=1000)\n",
    "\n",
    "ax.hist(r, density=True, histtype='stepfilled', alpha=0.2)\n",
    "\n",
    "ax.legend(loc='best', frameon=False)\n",
    "\n",
    "plt.show()"
   ]
  },
  {
   "cell_type": "code",
   "execution_count": 154,
   "id": "009a8e1a-330a-4bb8-834c-c54fdd69803f",
   "metadata": {},
   "outputs": [],
   "source": [
    "def cal_cost(b0, b1, X, y):\n",
    "    \n",
    "    n = len(y)\n",
    "    \n",
    "    yhat = b0 + b1 * X\n",
    "    \n",
    "    cost = np.sum(np.square(y - yhat))\n",
    "    \n",
    "    return cost"
   ]
  },
  {
   "cell_type": "code",
   "execution_count": null,
   "id": "3adae2f5-a827-41cb-b416-cf80e98a9f35",
   "metadata": {},
   "outputs": [],
   "source": [
    "def gradient_descent(X, y, b0, b1,learning_rate=0.001, iterations=1000):\n",
    "    \n",
    "    m = len(y)\n",
    "    \n",
    "    cost_history = np.zeros(iterations)\n",
    "    \n",
    "    _history = np.zeros((iterations,2))\n",
    "    \n",
    "    for it in range(iterations):\n",
    "        \n",
    "        prediction = np.dot(X,theta)\n",
    "        \n",
    "        theta = theta -(1/m)*learning_rate*( X.T.dot((prediction - y)))\n",
    "        theta_history[it,:] =theta.T\n",
    "        cost_history[it]  = cal_cost(theta,X,y)\n",
    "        \n",
    "    return theta, cost_history, theta_history"
   ]
  }
 ],
 "metadata": {
  "kernelspec": {
   "display_name": "Python 3 (ipykernel)",
   "language": "python",
   "name": "python3"
  },
  "language_info": {
   "codemirror_mode": {
    "name": "ipython",
    "version": 3
   },
   "file_extension": ".py",
   "mimetype": "text/x-python",
   "name": "python",
   "nbconvert_exporter": "python",
   "pygments_lexer": "ipython3",
   "version": "3.9.7"
  }
 },
 "nbformat": 4,
 "nbformat_minor": 5
}
