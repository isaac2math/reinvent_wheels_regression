{
 "cells": [
  {
   "cell_type": "markdown",
   "id": "9758114e-f14d-4e9d-8022-dc9ee272e2c6",
   "metadata": {},
   "source": [
    "# reset the memory"
   ]
  },
  {
   "cell_type": "code",
   "execution_count": 1,
   "id": "b1a65c2d-594d-4a88-b2ad-ba20406b860d",
   "metadata": {},
   "outputs": [],
   "source": [
    "%reset -f "
   ]
  },
  {
   "cell_type": "markdown",
   "id": "9d18db57-2ff2-42e9-a55c-8fb67745aa09",
   "metadata": {},
   "source": [
    "# let's see how to do a regression using Python package \"statsmodels\""
   ]
  },
  {
   "cell_type": "code",
   "execution_count": 1,
   "id": "a9c12d54-e31f-4448-9bfc-c6f2b303eec2",
   "metadata": {},
   "outputs": [],
   "source": [
    "import numpy  as np\n",
    "import scipy  as sp\n",
    "import pandas as pd\n",
    "\n",
    "import statsmodels.api   as sm\n",
    "import matplotlib.pyplot as plt"
   ]
  },
  {
   "cell_type": "markdown",
   "id": "21b0d02d-fc13-4b1a-964b-421c2a3612ee",
   "metadata": {},
   "source": [
    "# load data into python"
   ]
  },
  {
   "cell_type": "code",
   "execution_count": 2,
   "id": "0f988d2e-9465-4d13-b9ec-3930c372c48f",
   "metadata": {},
   "outputs": [],
   "source": [
    "df = pd.read_csv(\"HPRICE3.csv\")"
   ]
  },
  {
   "cell_type": "markdown",
   "id": "d10cf131-d91c-4fb6-b541-64a4f7e87789",
   "metadata": {},
   "source": [
    "# check the data in the table \"df\""
   ]
  },
  {
   "cell_type": "code",
   "execution_count": 3,
   "id": "8a05204a-d62a-40e3-9c67-bcea36290b36",
   "metadata": {},
   "outputs": [
    {
     "data": {
      "text/html": [
       "<div>\n",
       "<style scoped>\n",
       "    .dataframe tbody tr th:only-of-type {\n",
       "        vertical-align: middle;\n",
       "    }\n",
       "\n",
       "    .dataframe tbody tr th {\n",
       "        vertical-align: top;\n",
       "    }\n",
       "\n",
       "    .dataframe thead th {\n",
       "        text-align: right;\n",
       "    }\n",
       "</style>\n",
       "<table border=\"1\" class=\"dataframe\">\n",
       "  <thead>\n",
       "    <tr style=\"text-align: right;\">\n",
       "      <th></th>\n",
       "      <th>year</th>\n",
       "      <th>age</th>\n",
       "      <th>agesq</th>\n",
       "      <th>nbh</th>\n",
       "      <th>cbd</th>\n",
       "      <th>inst</th>\n",
       "      <th>linst</th>\n",
       "      <th>price</th>\n",
       "      <th>rooms</th>\n",
       "      <th>area</th>\n",
       "      <th>land</th>\n",
       "      <th>baths</th>\n",
       "      <th>dist</th>\n",
       "      <th>ldist</th>\n",
       "      <th>lprice</th>\n",
       "      <th>y81</th>\n",
       "      <th>larea</th>\n",
       "      <th>lland</th>\n",
       "      <th>linstsq</th>\n",
       "    </tr>\n",
       "  </thead>\n",
       "  <tbody>\n",
       "    <tr>\n",
       "      <th>count</th>\n",
       "      <td>321.000000</td>\n",
       "      <td>321.000000</td>\n",
       "      <td>321.000000</td>\n",
       "      <td>321.000000</td>\n",
       "      <td>321.000000</td>\n",
       "      <td>321.000000</td>\n",
       "      <td>321.000000</td>\n",
       "      <td>321.000000</td>\n",
       "      <td>321.000000</td>\n",
       "      <td>321.000000</td>\n",
       "      <td>321.000000</td>\n",
       "      <td>321.000000</td>\n",
       "      <td>321.000000</td>\n",
       "      <td>321.000000</td>\n",
       "      <td>321.000000</td>\n",
       "      <td>321.000000</td>\n",
       "      <td>321.000000</td>\n",
       "      <td>321.000000</td>\n",
       "      <td>321.000000</td>\n",
       "    </tr>\n",
       "    <tr>\n",
       "      <th>mean</th>\n",
       "      <td>1979.327103</td>\n",
       "      <td>18.009346</td>\n",
       "      <td>1381.566978</td>\n",
       "      <td>2.208723</td>\n",
       "      <td>15822.429907</td>\n",
       "      <td>16442.367601</td>\n",
       "      <td>9.480513</td>\n",
       "      <td>96100.660436</td>\n",
       "      <td>6.585670</td>\n",
       "      <td>2106.728972</td>\n",
       "      <td>39629.890966</td>\n",
       "      <td>2.339564</td>\n",
       "      <td>20715.576324</td>\n",
       "      <td>9.837414</td>\n",
       "      <td>11.378118</td>\n",
       "      <td>0.442368</td>\n",
       "      <td>7.597232</td>\n",
       "      <td>10.301859</td>\n",
       "      <td>90.482240</td>\n",
       "    </tr>\n",
       "    <tr>\n",
       "      <th>std</th>\n",
       "      <td>1.492329</td>\n",
       "      <td>32.565845</td>\n",
       "      <td>4801.788757</td>\n",
       "      <td>2.164353</td>\n",
       "      <td>8967.106296</td>\n",
       "      <td>9033.130652</td>\n",
       "      <td>0.777165</td>\n",
       "      <td>43223.728867</td>\n",
       "      <td>0.901204</td>\n",
       "      <td>694.957902</td>\n",
       "      <td>39514.390241</td>\n",
       "      <td>0.770526</td>\n",
       "      <td>8508.183950</td>\n",
       "      <td>0.478383</td>\n",
       "      <td>0.438174</td>\n",
       "      <td>0.497443</td>\n",
       "      <td>0.340723</td>\n",
       "      <td>0.801752</td>\n",
       "      <td>14.066464</td>\n",
       "    </tr>\n",
       "    <tr>\n",
       "      <th>min</th>\n",
       "      <td>1978.000000</td>\n",
       "      <td>0.000000</td>\n",
       "      <td>0.000000</td>\n",
       "      <td>0.000000</td>\n",
       "      <td>1000.000000</td>\n",
       "      <td>1000.000000</td>\n",
       "      <td>6.907800</td>\n",
       "      <td>26000.000000</td>\n",
       "      <td>4.000000</td>\n",
       "      <td>735.000000</td>\n",
       "      <td>1710.000000</td>\n",
       "      <td>1.000000</td>\n",
       "      <td>5000.000000</td>\n",
       "      <td>8.517193</td>\n",
       "      <td>10.165852</td>\n",
       "      <td>0.000000</td>\n",
       "      <td>6.599871</td>\n",
       "      <td>7.444249</td>\n",
       "      <td>47.717705</td>\n",
       "    </tr>\n",
       "    <tr>\n",
       "      <th>25%</th>\n",
       "      <td>1978.000000</td>\n",
       "      <td>0.000000</td>\n",
       "      <td>0.000000</td>\n",
       "      <td>0.000000</td>\n",
       "      <td>9000.000000</td>\n",
       "      <td>9000.000000</td>\n",
       "      <td>9.104999</td>\n",
       "      <td>65000.000000</td>\n",
       "      <td>6.000000</td>\n",
       "      <td>1560.000000</td>\n",
       "      <td>16935.000000</td>\n",
       "      <td>2.000000</td>\n",
       "      <td>13400.000000</td>\n",
       "      <td>9.503010</td>\n",
       "      <td>11.082143</td>\n",
       "      <td>0.000000</td>\n",
       "      <td>7.352441</td>\n",
       "      <td>9.737138</td>\n",
       "      <td>82.901016</td>\n",
       "    </tr>\n",
       "    <tr>\n",
       "      <th>50%</th>\n",
       "      <td>1978.000000</td>\n",
       "      <td>4.000000</td>\n",
       "      <td>16.000000</td>\n",
       "      <td>2.000000</td>\n",
       "      <td>14000.000000</td>\n",
       "      <td>16000.000000</td>\n",
       "      <td>9.680300</td>\n",
       "      <td>85900.000000</td>\n",
       "      <td>7.000000</td>\n",
       "      <td>2056.000000</td>\n",
       "      <td>43560.000000</td>\n",
       "      <td>2.000000</td>\n",
       "      <td>19900.000000</td>\n",
       "      <td>9.898475</td>\n",
       "      <td>11.360939</td>\n",
       "      <td>0.000000</td>\n",
       "      <td>7.628518</td>\n",
       "      <td>10.681894</td>\n",
       "      <td>93.708206</td>\n",
       "    </tr>\n",
       "    <tr>\n",
       "      <th>75%</th>\n",
       "      <td>1981.000000</td>\n",
       "      <td>22.000000</td>\n",
       "      <td>484.000000</td>\n",
       "      <td>4.000000</td>\n",
       "      <td>23000.000000</td>\n",
       "      <td>24000.000000</td>\n",
       "      <td>10.086000</td>\n",
       "      <td>120000.000000</td>\n",
       "      <td>7.000000</td>\n",
       "      <td>2544.000000</td>\n",
       "      <td>46100.000000</td>\n",
       "      <td>3.000000</td>\n",
       "      <td>27200.000000</td>\n",
       "      <td>10.210970</td>\n",
       "      <td>11.695247</td>\n",
       "      <td>1.000000</td>\n",
       "      <td>7.841493</td>\n",
       "      <td>10.738568</td>\n",
       "      <td>101.727400</td>\n",
       "    </tr>\n",
       "    <tr>\n",
       "      <th>max</th>\n",
       "      <td>1981.000000</td>\n",
       "      <td>189.000000</td>\n",
       "      <td>35721.000000</td>\n",
       "      <td>6.000000</td>\n",
       "      <td>35000.000000</td>\n",
       "      <td>34000.000000</td>\n",
       "      <td>10.434000</td>\n",
       "      <td>300000.000000</td>\n",
       "      <td>10.000000</td>\n",
       "      <td>5136.000000</td>\n",
       "      <td>544500.000000</td>\n",
       "      <td>4.000000</td>\n",
       "      <td>40000.000000</td>\n",
       "      <td>10.596630</td>\n",
       "      <td>12.611538</td>\n",
       "      <td>1.000000</td>\n",
       "      <td>8.544030</td>\n",
       "      <td>13.207623</td>\n",
       "      <td>108.868350</td>\n",
       "    </tr>\n",
       "  </tbody>\n",
       "</table>\n",
       "</div>"
      ],
      "text/plain": [
       "              year         age         agesq         nbh           cbd  \\\n",
       "count   321.000000  321.000000    321.000000  321.000000    321.000000   \n",
       "mean   1979.327103   18.009346   1381.566978    2.208723  15822.429907   \n",
       "std       1.492329   32.565845   4801.788757    2.164353   8967.106296   \n",
       "min    1978.000000    0.000000      0.000000    0.000000   1000.000000   \n",
       "25%    1978.000000    0.000000      0.000000    0.000000   9000.000000   \n",
       "50%    1978.000000    4.000000     16.000000    2.000000  14000.000000   \n",
       "75%    1981.000000   22.000000    484.000000    4.000000  23000.000000   \n",
       "max    1981.000000  189.000000  35721.000000    6.000000  35000.000000   \n",
       "\n",
       "               inst       linst          price       rooms         area  \\\n",
       "count    321.000000  321.000000     321.000000  321.000000   321.000000   \n",
       "mean   16442.367601    9.480513   96100.660436    6.585670  2106.728972   \n",
       "std     9033.130652    0.777165   43223.728867    0.901204   694.957902   \n",
       "min     1000.000000    6.907800   26000.000000    4.000000   735.000000   \n",
       "25%     9000.000000    9.104999   65000.000000    6.000000  1560.000000   \n",
       "50%    16000.000000    9.680300   85900.000000    7.000000  2056.000000   \n",
       "75%    24000.000000   10.086000  120000.000000    7.000000  2544.000000   \n",
       "max    34000.000000   10.434000  300000.000000   10.000000  5136.000000   \n",
       "\n",
       "                land       baths          dist       ldist      lprice  \\\n",
       "count     321.000000  321.000000    321.000000  321.000000  321.000000   \n",
       "mean    39629.890966    2.339564  20715.576324    9.837414   11.378118   \n",
       "std     39514.390241    0.770526   8508.183950    0.478383    0.438174   \n",
       "min      1710.000000    1.000000   5000.000000    8.517193   10.165852   \n",
       "25%     16935.000000    2.000000  13400.000000    9.503010   11.082143   \n",
       "50%     43560.000000    2.000000  19900.000000    9.898475   11.360939   \n",
       "75%     46100.000000    3.000000  27200.000000   10.210970   11.695247   \n",
       "max    544500.000000    4.000000  40000.000000   10.596630   12.611538   \n",
       "\n",
       "              y81       larea       lland     linstsq  \n",
       "count  321.000000  321.000000  321.000000  321.000000  \n",
       "mean     0.442368    7.597232   10.301859   90.482240  \n",
       "std      0.497443    0.340723    0.801752   14.066464  \n",
       "min      0.000000    6.599871    7.444249   47.717705  \n",
       "25%      0.000000    7.352441    9.737138   82.901016  \n",
       "50%      0.000000    7.628518   10.681894   93.708206  \n",
       "75%      1.000000    7.841493   10.738568  101.727400  \n",
       "max      1.000000    8.544030   13.207623  108.868350  "
      ]
     },
     "execution_count": 3,
     "metadata": {},
     "output_type": "execute_result"
    }
   ],
   "source": [
    "df.describe()"
   ]
  },
  {
   "cell_type": "code",
   "execution_count": 4,
   "id": "aef8582a-c558-422f-abfe-fae16b0df6a2",
   "metadata": {},
   "outputs": [
    {
     "data": {
      "text/html": [
       "<div>\n",
       "<style scoped>\n",
       "    .dataframe tbody tr th:only-of-type {\n",
       "        vertical-align: middle;\n",
       "    }\n",
       "\n",
       "    .dataframe tbody tr th {\n",
       "        vertical-align: top;\n",
       "    }\n",
       "\n",
       "    .dataframe thead th {\n",
       "        text-align: right;\n",
       "    }\n",
       "</style>\n",
       "<table border=\"1\" class=\"dataframe\">\n",
       "  <thead>\n",
       "    <tr style=\"text-align: right;\">\n",
       "      <th></th>\n",
       "      <th>year</th>\n",
       "      <th>age</th>\n",
       "      <th>agesq</th>\n",
       "      <th>nbh</th>\n",
       "      <th>cbd</th>\n",
       "      <th>inst</th>\n",
       "      <th>linst</th>\n",
       "      <th>price</th>\n",
       "      <th>rooms</th>\n",
       "      <th>area</th>\n",
       "      <th>land</th>\n",
       "      <th>baths</th>\n",
       "      <th>dist</th>\n",
       "      <th>ldist</th>\n",
       "      <th>lprice</th>\n",
       "      <th>y81</th>\n",
       "      <th>larea</th>\n",
       "      <th>lland</th>\n",
       "      <th>linstsq</th>\n",
       "    </tr>\n",
       "  </thead>\n",
       "  <tbody>\n",
       "    <tr>\n",
       "      <th>0</th>\n",
       "      <td>1978</td>\n",
       "      <td>48</td>\n",
       "      <td>2304</td>\n",
       "      <td>4</td>\n",
       "      <td>3000</td>\n",
       "      <td>1000</td>\n",
       "      <td>6.9078</td>\n",
       "      <td>60000</td>\n",
       "      <td>7</td>\n",
       "      <td>1660</td>\n",
       "      <td>4578</td>\n",
       "      <td>1</td>\n",
       "      <td>10700</td>\n",
       "      <td>9.277999</td>\n",
       "      <td>11.002100</td>\n",
       "      <td>0</td>\n",
       "      <td>7.414573</td>\n",
       "      <td>8.429017</td>\n",
       "      <td>47.717705</td>\n",
       "    </tr>\n",
       "    <tr>\n",
       "      <th>1</th>\n",
       "      <td>1978</td>\n",
       "      <td>83</td>\n",
       "      <td>6889</td>\n",
       "      <td>4</td>\n",
       "      <td>4000</td>\n",
       "      <td>1000</td>\n",
       "      <td>6.9078</td>\n",
       "      <td>40000</td>\n",
       "      <td>6</td>\n",
       "      <td>2612</td>\n",
       "      <td>8370</td>\n",
       "      <td>2</td>\n",
       "      <td>11000</td>\n",
       "      <td>9.305651</td>\n",
       "      <td>10.596635</td>\n",
       "      <td>0</td>\n",
       "      <td>7.867871</td>\n",
       "      <td>9.032409</td>\n",
       "      <td>47.717705</td>\n",
       "    </tr>\n",
       "    <tr>\n",
       "      <th>2</th>\n",
       "      <td>1978</td>\n",
       "      <td>58</td>\n",
       "      <td>3364</td>\n",
       "      <td>4</td>\n",
       "      <td>4000</td>\n",
       "      <td>1000</td>\n",
       "      <td>6.9078</td>\n",
       "      <td>34000</td>\n",
       "      <td>6</td>\n",
       "      <td>1144</td>\n",
       "      <td>5000</td>\n",
       "      <td>1</td>\n",
       "      <td>11500</td>\n",
       "      <td>9.350102</td>\n",
       "      <td>10.434115</td>\n",
       "      <td>0</td>\n",
       "      <td>7.042286</td>\n",
       "      <td>8.517193</td>\n",
       "      <td>47.717705</td>\n",
       "    </tr>\n",
       "    <tr>\n",
       "      <th>3</th>\n",
       "      <td>1978</td>\n",
       "      <td>11</td>\n",
       "      <td>121</td>\n",
       "      <td>4</td>\n",
       "      <td>4000</td>\n",
       "      <td>1000</td>\n",
       "      <td>6.9078</td>\n",
       "      <td>63900</td>\n",
       "      <td>5</td>\n",
       "      <td>1136</td>\n",
       "      <td>10000</td>\n",
       "      <td>1</td>\n",
       "      <td>11900</td>\n",
       "      <td>9.384294</td>\n",
       "      <td>11.065075</td>\n",
       "      <td>0</td>\n",
       "      <td>7.035269</td>\n",
       "      <td>9.210340</td>\n",
       "      <td>47.717705</td>\n",
       "    </tr>\n",
       "    <tr>\n",
       "      <th>4</th>\n",
       "      <td>1978</td>\n",
       "      <td>48</td>\n",
       "      <td>2304</td>\n",
       "      <td>4</td>\n",
       "      <td>4000</td>\n",
       "      <td>2000</td>\n",
       "      <td>7.6009</td>\n",
       "      <td>44000</td>\n",
       "      <td>5</td>\n",
       "      <td>1868</td>\n",
       "      <td>10000</td>\n",
       "      <td>1</td>\n",
       "      <td>12100</td>\n",
       "      <td>9.400961</td>\n",
       "      <td>10.691945</td>\n",
       "      <td>0</td>\n",
       "      <td>7.532624</td>\n",
       "      <td>9.210340</td>\n",
       "      <td>57.773682</td>\n",
       "    </tr>\n",
       "  </tbody>\n",
       "</table>\n",
       "</div>"
      ],
      "text/plain": [
       "   year  age  agesq  nbh   cbd  inst   linst  price  rooms  area   land  \\\n",
       "0  1978   48   2304    4  3000  1000  6.9078  60000      7  1660   4578   \n",
       "1  1978   83   6889    4  4000  1000  6.9078  40000      6  2612   8370   \n",
       "2  1978   58   3364    4  4000  1000  6.9078  34000      6  1144   5000   \n",
       "3  1978   11    121    4  4000  1000  6.9078  63900      5  1136  10000   \n",
       "4  1978   48   2304    4  4000  2000  7.6009  44000      5  1868  10000   \n",
       "\n",
       "   baths   dist     ldist     lprice  y81     larea     lland    linstsq  \n",
       "0      1  10700  9.277999  11.002100    0  7.414573  8.429017  47.717705  \n",
       "1      2  11000  9.305651  10.596635    0  7.867871  9.032409  47.717705  \n",
       "2      1  11500  9.350102  10.434115    0  7.042286  8.517193  47.717705  \n",
       "3      1  11900  9.384294  11.065075    0  7.035269  9.210340  47.717705  \n",
       "4      1  12100  9.400961  10.691945    0  7.532624  9.210340  57.773682  "
      ]
     },
     "execution_count": 4,
     "metadata": {},
     "output_type": "execute_result"
    }
   ],
   "source": [
    "df.head()"
   ]
  },
  {
   "cell_type": "code",
   "execution_count": 5,
   "id": "0fd6bf31-c245-490a-962d-c3d7da5c9f67",
   "metadata": {},
   "outputs": [
    {
     "data": {
      "text/html": [
       "<div>\n",
       "<style scoped>\n",
       "    .dataframe tbody tr th:only-of-type {\n",
       "        vertical-align: middle;\n",
       "    }\n",
       "\n",
       "    .dataframe tbody tr th {\n",
       "        vertical-align: top;\n",
       "    }\n",
       "\n",
       "    .dataframe thead th {\n",
       "        text-align: right;\n",
       "    }\n",
       "</style>\n",
       "<table border=\"1\" class=\"dataframe\">\n",
       "  <thead>\n",
       "    <tr style=\"text-align: right;\">\n",
       "      <th></th>\n",
       "      <th>year</th>\n",
       "      <th>age</th>\n",
       "      <th>agesq</th>\n",
       "      <th>nbh</th>\n",
       "      <th>cbd</th>\n",
       "      <th>inst</th>\n",
       "      <th>linst</th>\n",
       "      <th>price</th>\n",
       "      <th>rooms</th>\n",
       "      <th>area</th>\n",
       "      <th>land</th>\n",
       "      <th>baths</th>\n",
       "      <th>dist</th>\n",
       "      <th>ldist</th>\n",
       "      <th>lprice</th>\n",
       "      <th>y81</th>\n",
       "      <th>larea</th>\n",
       "      <th>lland</th>\n",
       "      <th>linstsq</th>\n",
       "    </tr>\n",
       "  </thead>\n",
       "  <tbody>\n",
       "    <tr>\n",
       "      <th>316</th>\n",
       "      <td>1981</td>\n",
       "      <td>25</td>\n",
       "      <td>625</td>\n",
       "      <td>0</td>\n",
       "      <td>10000</td>\n",
       "      <td>10000</td>\n",
       "      <td>9.2103</td>\n",
       "      <td>60000</td>\n",
       "      <td>6</td>\n",
       "      <td>1388</td>\n",
       "      <td>7500</td>\n",
       "      <td>1</td>\n",
       "      <td>16900</td>\n",
       "      <td>9.735069</td>\n",
       "      <td>11.002100</td>\n",
       "      <td>1</td>\n",
       "      <td>7.235619</td>\n",
       "      <td>8.922658</td>\n",
       "      <td>84.829636</td>\n",
       "    </tr>\n",
       "    <tr>\n",
       "      <th>317</th>\n",
       "      <td>1981</td>\n",
       "      <td>0</td>\n",
       "      <td>0</td>\n",
       "      <td>6</td>\n",
       "      <td>24000</td>\n",
       "      <td>26000</td>\n",
       "      <td>10.1660</td>\n",
       "      <td>144500</td>\n",
       "      <td>7</td>\n",
       "      <td>3140</td>\n",
       "      <td>48787</td>\n",
       "      <td>3</td>\n",
       "      <td>25000</td>\n",
       "      <td>10.126630</td>\n",
       "      <td>11.881035</td>\n",
       "      <td>1</td>\n",
       "      <td>8.051978</td>\n",
       "      <td>10.795219</td>\n",
       "      <td>103.347560</td>\n",
       "    </tr>\n",
       "    <tr>\n",
       "      <th>318</th>\n",
       "      <td>1981</td>\n",
       "      <td>20</td>\n",
       "      <td>400</td>\n",
       "      <td>0</td>\n",
       "      <td>15000</td>\n",
       "      <td>15000</td>\n",
       "      <td>9.6158</td>\n",
       "      <td>97000</td>\n",
       "      <td>6</td>\n",
       "      <td>1296</td>\n",
       "      <td>44867</td>\n",
       "      <td>2</td>\n",
       "      <td>21300</td>\n",
       "      <td>9.966462</td>\n",
       "      <td>11.482467</td>\n",
       "      <td>1</td>\n",
       "      <td>7.167038</td>\n",
       "      <td>10.711458</td>\n",
       "      <td>92.463608</td>\n",
       "    </tr>\n",
       "    <tr>\n",
       "      <th>319</th>\n",
       "      <td>1981</td>\n",
       "      <td>19</td>\n",
       "      <td>361</td>\n",
       "      <td>0</td>\n",
       "      <td>14000</td>\n",
       "      <td>15000</td>\n",
       "      <td>9.6158</td>\n",
       "      <td>95000</td>\n",
       "      <td>5</td>\n",
       "      <td>1148</td>\n",
       "      <td>44182</td>\n",
       "      <td>2</td>\n",
       "      <td>20500</td>\n",
       "      <td>9.928180</td>\n",
       "      <td>11.461632</td>\n",
       "      <td>1</td>\n",
       "      <td>7.045776</td>\n",
       "      <td>10.696073</td>\n",
       "      <td>92.463608</td>\n",
       "    </tr>\n",
       "    <tr>\n",
       "      <th>320</th>\n",
       "      <td>1981</td>\n",
       "      <td>0</td>\n",
       "      <td>0</td>\n",
       "      <td>0</td>\n",
       "      <td>13000</td>\n",
       "      <td>13000</td>\n",
       "      <td>9.4727</td>\n",
       "      <td>204080</td>\n",
       "      <td>7</td>\n",
       "      <td>2261</td>\n",
       "      <td>45465</td>\n",
       "      <td>3</td>\n",
       "      <td>19400</td>\n",
       "      <td>9.873028</td>\n",
       "      <td>12.226268</td>\n",
       "      <td>1</td>\n",
       "      <td>7.723562</td>\n",
       "      <td>10.724698</td>\n",
       "      <td>89.732048</td>\n",
       "    </tr>\n",
       "  </tbody>\n",
       "</table>\n",
       "</div>"
      ],
      "text/plain": [
       "     year  age  agesq  nbh    cbd   inst    linst   price  rooms  area   land  \\\n",
       "316  1981   25    625    0  10000  10000   9.2103   60000      6  1388   7500   \n",
       "317  1981    0      0    6  24000  26000  10.1660  144500      7  3140  48787   \n",
       "318  1981   20    400    0  15000  15000   9.6158   97000      6  1296  44867   \n",
       "319  1981   19    361    0  14000  15000   9.6158   95000      5  1148  44182   \n",
       "320  1981    0      0    0  13000  13000   9.4727  204080      7  2261  45465   \n",
       "\n",
       "     baths   dist      ldist     lprice  y81     larea      lland     linstsq  \n",
       "316      1  16900   9.735069  11.002100    1  7.235619   8.922658   84.829636  \n",
       "317      3  25000  10.126630  11.881035    1  8.051978  10.795219  103.347560  \n",
       "318      2  21300   9.966462  11.482467    1  7.167038  10.711458   92.463608  \n",
       "319      2  20500   9.928180  11.461632    1  7.045776  10.696073   92.463608  \n",
       "320      3  19400   9.873028  12.226268    1  7.723562  10.724698   89.732048  "
      ]
     },
     "execution_count": 5,
     "metadata": {},
     "output_type": "execute_result"
    }
   ],
   "source": [
    "df.tail()"
   ]
  },
  {
   "cell_type": "markdown",
   "id": "6305823e-0b79-4d2d-b8d6-c45500d2ba96",
   "metadata": {},
   "source": [
    "# check the data for specific variables in the table \"df\"\n",
    "\n",
    "# we focus on $\\log \\left( \\mathrm{price} \\right)$ and $\\mathrm{rooms}$"
   ]
  },
  {
   "cell_type": "code",
   "execution_count": 8,
   "id": "8f961bb1-a6eb-478a-96df-f6025ddd5f39",
   "metadata": {},
   "outputs": [
    {
     "data": {
      "text/html": [
       "<div>\n",
       "<style scoped>\n",
       "    .dataframe tbody tr th:only-of-type {\n",
       "        vertical-align: middle;\n",
       "    }\n",
       "\n",
       "    .dataframe tbody tr th {\n",
       "        vertical-align: top;\n",
       "    }\n",
       "\n",
       "    .dataframe thead th {\n",
       "        text-align: right;\n",
       "    }\n",
       "</style>\n",
       "<table border=\"1\" class=\"dataframe\">\n",
       "  <thead>\n",
       "    <tr style=\"text-align: right;\">\n",
       "      <th></th>\n",
       "      <th>lprice</th>\n",
       "      <th>rooms</th>\n",
       "    </tr>\n",
       "  </thead>\n",
       "  <tbody>\n",
       "    <tr>\n",
       "      <th>count</th>\n",
       "      <td>321.000000</td>\n",
       "      <td>321.000000</td>\n",
       "    </tr>\n",
       "    <tr>\n",
       "      <th>mean</th>\n",
       "      <td>11.378118</td>\n",
       "      <td>6.585670</td>\n",
       "    </tr>\n",
       "    <tr>\n",
       "      <th>std</th>\n",
       "      <td>0.438174</td>\n",
       "      <td>0.901204</td>\n",
       "    </tr>\n",
       "    <tr>\n",
       "      <th>min</th>\n",
       "      <td>10.165852</td>\n",
       "      <td>4.000000</td>\n",
       "    </tr>\n",
       "    <tr>\n",
       "      <th>25%</th>\n",
       "      <td>11.082143</td>\n",
       "      <td>6.000000</td>\n",
       "    </tr>\n",
       "    <tr>\n",
       "      <th>50%</th>\n",
       "      <td>11.360939</td>\n",
       "      <td>7.000000</td>\n",
       "    </tr>\n",
       "    <tr>\n",
       "      <th>75%</th>\n",
       "      <td>11.695247</td>\n",
       "      <td>7.000000</td>\n",
       "    </tr>\n",
       "    <tr>\n",
       "      <th>max</th>\n",
       "      <td>12.611538</td>\n",
       "      <td>10.000000</td>\n",
       "    </tr>\n",
       "  </tbody>\n",
       "</table>\n",
       "</div>"
      ],
      "text/plain": [
       "           lprice       rooms\n",
       "count  321.000000  321.000000\n",
       "mean    11.378118    6.585670\n",
       "std      0.438174    0.901204\n",
       "min     10.165852    4.000000\n",
       "25%     11.082143    6.000000\n",
       "50%     11.360939    7.000000\n",
       "75%     11.695247    7.000000\n",
       "max     12.611538   10.000000"
      ]
     },
     "execution_count": 8,
     "metadata": {},
     "output_type": "execute_result"
    }
   ],
   "source": [
    "df[['lprice','rooms']].describe()"
   ]
  },
  {
   "cell_type": "code",
   "execution_count": 9,
   "id": "f628a4d2-b8bd-43d9-8df7-157b2c0c949b",
   "metadata": {},
   "outputs": [
    {
     "data": {
      "text/html": [
       "<div>\n",
       "<style scoped>\n",
       "    .dataframe tbody tr th:only-of-type {\n",
       "        vertical-align: middle;\n",
       "    }\n",
       "\n",
       "    .dataframe tbody tr th {\n",
       "        vertical-align: top;\n",
       "    }\n",
       "\n",
       "    .dataframe thead th {\n",
       "        text-align: right;\n",
       "    }\n",
       "</style>\n",
       "<table border=\"1\" class=\"dataframe\">\n",
       "  <thead>\n",
       "    <tr style=\"text-align: right;\">\n",
       "      <th></th>\n",
       "      <th>lprice</th>\n",
       "      <th>rooms</th>\n",
       "    </tr>\n",
       "  </thead>\n",
       "  <tbody>\n",
       "    <tr>\n",
       "      <th>0</th>\n",
       "      <td>11.002100</td>\n",
       "      <td>7</td>\n",
       "    </tr>\n",
       "    <tr>\n",
       "      <th>1</th>\n",
       "      <td>10.596635</td>\n",
       "      <td>6</td>\n",
       "    </tr>\n",
       "    <tr>\n",
       "      <th>2</th>\n",
       "      <td>10.434115</td>\n",
       "      <td>6</td>\n",
       "    </tr>\n",
       "    <tr>\n",
       "      <th>3</th>\n",
       "      <td>11.065075</td>\n",
       "      <td>5</td>\n",
       "    </tr>\n",
       "    <tr>\n",
       "      <th>4</th>\n",
       "      <td>10.691945</td>\n",
       "      <td>5</td>\n",
       "    </tr>\n",
       "  </tbody>\n",
       "</table>\n",
       "</div>"
      ],
      "text/plain": [
       "      lprice  rooms\n",
       "0  11.002100      7\n",
       "1  10.596635      6\n",
       "2  10.434115      6\n",
       "3  11.065075      5\n",
       "4  10.691945      5"
      ]
     },
     "execution_count": 9,
     "metadata": {},
     "output_type": "execute_result"
    }
   ],
   "source": [
    "df[['lprice','rooms']].head()"
   ]
  },
  {
   "cell_type": "code",
   "execution_count": 10,
   "id": "484830da-a086-48af-9c23-13c569c5b7c0",
   "metadata": {},
   "outputs": [
    {
     "data": {
      "text/html": [
       "<div>\n",
       "<style scoped>\n",
       "    .dataframe tbody tr th:only-of-type {\n",
       "        vertical-align: middle;\n",
       "    }\n",
       "\n",
       "    .dataframe tbody tr th {\n",
       "        vertical-align: top;\n",
       "    }\n",
       "\n",
       "    .dataframe thead th {\n",
       "        text-align: right;\n",
       "    }\n",
       "</style>\n",
       "<table border=\"1\" class=\"dataframe\">\n",
       "  <thead>\n",
       "    <tr style=\"text-align: right;\">\n",
       "      <th></th>\n",
       "      <th>lprice</th>\n",
       "      <th>rooms</th>\n",
       "    </tr>\n",
       "  </thead>\n",
       "  <tbody>\n",
       "    <tr>\n",
       "      <th>316</th>\n",
       "      <td>11.002100</td>\n",
       "      <td>6</td>\n",
       "    </tr>\n",
       "    <tr>\n",
       "      <th>317</th>\n",
       "      <td>11.881035</td>\n",
       "      <td>7</td>\n",
       "    </tr>\n",
       "    <tr>\n",
       "      <th>318</th>\n",
       "      <td>11.482467</td>\n",
       "      <td>6</td>\n",
       "    </tr>\n",
       "    <tr>\n",
       "      <th>319</th>\n",
       "      <td>11.461632</td>\n",
       "      <td>5</td>\n",
       "    </tr>\n",
       "    <tr>\n",
       "      <th>320</th>\n",
       "      <td>12.226268</td>\n",
       "      <td>7</td>\n",
       "    </tr>\n",
       "  </tbody>\n",
       "</table>\n",
       "</div>"
      ],
      "text/plain": [
       "        lprice  rooms\n",
       "316  11.002100      6\n",
       "317  11.881035      7\n",
       "318  11.482467      6\n",
       "319  11.461632      5\n",
       "320  12.226268      7"
      ]
     },
     "execution_count": 10,
     "metadata": {},
     "output_type": "execute_result"
    }
   ],
   "source": [
    "df[['lprice','rooms']].tail()"
   ]
  },
  {
   "cell_type": "markdown",
   "id": "3fbd54c7-f902-472c-bc29-c222d9ec7897",
   "metadata": {},
   "source": [
    "# start regression using statsmodels"
   ]
  },
  {
   "cell_type": "code",
   "execution_count": 11,
   "id": "07ef6029-d8ed-4d4f-9c67-0f45eb2bd225",
   "metadata": {},
   "outputs": [],
   "source": [
    "Xvar = df[['rooms']]\n",
    "Yvar = df[['lprice']]\n",
    "Xvar = sm.add_constant(Xvar)"
   ]
  },
  {
   "cell_type": "code",
   "execution_count": 12,
   "id": "df752de0-8c5a-436a-9af5-c0b98aac4b1a",
   "metadata": {},
   "outputs": [
    {
     "data": {
      "text/html": [
       "<div>\n",
       "<style scoped>\n",
       "    .dataframe tbody tr th:only-of-type {\n",
       "        vertical-align: middle;\n",
       "    }\n",
       "\n",
       "    .dataframe tbody tr th {\n",
       "        vertical-align: top;\n",
       "    }\n",
       "\n",
       "    .dataframe thead th {\n",
       "        text-align: right;\n",
       "    }\n",
       "</style>\n",
       "<table border=\"1\" class=\"dataframe\">\n",
       "  <thead>\n",
       "    <tr style=\"text-align: right;\">\n",
       "      <th></th>\n",
       "      <th>lprice</th>\n",
       "    </tr>\n",
       "  </thead>\n",
       "  <tbody>\n",
       "    <tr>\n",
       "      <th>0</th>\n",
       "      <td>11.002100</td>\n",
       "    </tr>\n",
       "    <tr>\n",
       "      <th>1</th>\n",
       "      <td>10.596635</td>\n",
       "    </tr>\n",
       "    <tr>\n",
       "      <th>2</th>\n",
       "      <td>10.434115</td>\n",
       "    </tr>\n",
       "    <tr>\n",
       "      <th>3</th>\n",
       "      <td>11.065075</td>\n",
       "    </tr>\n",
       "    <tr>\n",
       "      <th>4</th>\n",
       "      <td>10.691945</td>\n",
       "    </tr>\n",
       "    <tr>\n",
       "      <th>...</th>\n",
       "      <td>...</td>\n",
       "    </tr>\n",
       "    <tr>\n",
       "      <th>316</th>\n",
       "      <td>11.002100</td>\n",
       "    </tr>\n",
       "    <tr>\n",
       "      <th>317</th>\n",
       "      <td>11.881035</td>\n",
       "    </tr>\n",
       "    <tr>\n",
       "      <th>318</th>\n",
       "      <td>11.482467</td>\n",
       "    </tr>\n",
       "    <tr>\n",
       "      <th>319</th>\n",
       "      <td>11.461632</td>\n",
       "    </tr>\n",
       "    <tr>\n",
       "      <th>320</th>\n",
       "      <td>12.226268</td>\n",
       "    </tr>\n",
       "  </tbody>\n",
       "</table>\n",
       "<p>321 rows × 1 columns</p>\n",
       "</div>"
      ],
      "text/plain": [
       "        lprice\n",
       "0    11.002100\n",
       "1    10.596635\n",
       "2    10.434115\n",
       "3    11.065075\n",
       "4    10.691945\n",
       "..         ...\n",
       "316  11.002100\n",
       "317  11.881035\n",
       "318  11.482467\n",
       "319  11.461632\n",
       "320  12.226268\n",
       "\n",
       "[321 rows x 1 columns]"
      ]
     },
     "execution_count": 12,
     "metadata": {},
     "output_type": "execute_result"
    }
   ],
   "source": [
    "Yvar"
   ]
  },
  {
   "cell_type": "code",
   "execution_count": 13,
   "id": "0827c9a1-9001-4b76-b2b7-60acb29c06c7",
   "metadata": {},
   "outputs": [
    {
     "data": {
      "text/html": [
       "<div>\n",
       "<style scoped>\n",
       "    .dataframe tbody tr th:only-of-type {\n",
       "        vertical-align: middle;\n",
       "    }\n",
       "\n",
       "    .dataframe tbody tr th {\n",
       "        vertical-align: top;\n",
       "    }\n",
       "\n",
       "    .dataframe thead th {\n",
       "        text-align: right;\n",
       "    }\n",
       "</style>\n",
       "<table border=\"1\" class=\"dataframe\">\n",
       "  <thead>\n",
       "    <tr style=\"text-align: right;\">\n",
       "      <th></th>\n",
       "      <th>const</th>\n",
       "      <th>rooms</th>\n",
       "    </tr>\n",
       "  </thead>\n",
       "  <tbody>\n",
       "    <tr>\n",
       "      <th>0</th>\n",
       "      <td>1.0</td>\n",
       "      <td>7</td>\n",
       "    </tr>\n",
       "    <tr>\n",
       "      <th>1</th>\n",
       "      <td>1.0</td>\n",
       "      <td>6</td>\n",
       "    </tr>\n",
       "    <tr>\n",
       "      <th>2</th>\n",
       "      <td>1.0</td>\n",
       "      <td>6</td>\n",
       "    </tr>\n",
       "    <tr>\n",
       "      <th>3</th>\n",
       "      <td>1.0</td>\n",
       "      <td>5</td>\n",
       "    </tr>\n",
       "    <tr>\n",
       "      <th>4</th>\n",
       "      <td>1.0</td>\n",
       "      <td>5</td>\n",
       "    </tr>\n",
       "    <tr>\n",
       "      <th>...</th>\n",
       "      <td>...</td>\n",
       "      <td>...</td>\n",
       "    </tr>\n",
       "    <tr>\n",
       "      <th>316</th>\n",
       "      <td>1.0</td>\n",
       "      <td>6</td>\n",
       "    </tr>\n",
       "    <tr>\n",
       "      <th>317</th>\n",
       "      <td>1.0</td>\n",
       "      <td>7</td>\n",
       "    </tr>\n",
       "    <tr>\n",
       "      <th>318</th>\n",
       "      <td>1.0</td>\n",
       "      <td>6</td>\n",
       "    </tr>\n",
       "    <tr>\n",
       "      <th>319</th>\n",
       "      <td>1.0</td>\n",
       "      <td>5</td>\n",
       "    </tr>\n",
       "    <tr>\n",
       "      <th>320</th>\n",
       "      <td>1.0</td>\n",
       "      <td>7</td>\n",
       "    </tr>\n",
       "  </tbody>\n",
       "</table>\n",
       "<p>321 rows × 2 columns</p>\n",
       "</div>"
      ],
      "text/plain": [
       "     const  rooms\n",
       "0      1.0      7\n",
       "1      1.0      6\n",
       "2      1.0      6\n",
       "3      1.0      5\n",
       "4      1.0      5\n",
       "..     ...    ...\n",
       "316    1.0      6\n",
       "317    1.0      7\n",
       "318    1.0      6\n",
       "319    1.0      5\n",
       "320    1.0      7\n",
       "\n",
       "[321 rows x 2 columns]"
      ]
     },
     "execution_count": 13,
     "metadata": {},
     "output_type": "execute_result"
    }
   ],
   "source": [
    "Xvar"
   ]
  },
  {
   "cell_type": "code",
   "execution_count": 15,
   "id": "a4bda11f-d234-485c-b2ee-eaa59db059b4",
   "metadata": {},
   "outputs": [],
   "source": [
    "reg = sm.OLS(Yvar, Xvar)\n",
    "\n",
    "result = reg.fit()"
   ]
  },
  {
   "cell_type": "code",
   "execution_count": 16,
   "id": "25428a1a-6ca1-4f83-88b2-04f7ab30cae3",
   "metadata": {},
   "outputs": [
    {
     "name": "stdout",
     "output_type": "stream",
     "text": [
      "                            OLS Regression Results                            \n",
      "==============================================================================\n",
      "Dep. Variable:                 lprice   R-squared:                       0.243\n",
      "Model:                            OLS   Adj. R-squared:                  0.241\n",
      "Method:                 Least Squares   F-statistic:                     102.6\n",
      "Date:                Wed, 13 Oct 2021   Prob (F-statistic):           4.32e-21\n",
      "Time:                        13:10:59   Log-Likelihood:                -145.35\n",
      "No. Observations:                 321   AIC:                             294.7\n",
      "Df Residuals:                     319   BIC:                             302.2\n",
      "Df Model:                           1                                         \n",
      "Covariance Type:            nonrobust                                         \n",
      "==============================================================================\n",
      "                 coef    std err          t      P>|t|      [0.025      0.975]\n",
      "------------------------------------------------------------------------------\n",
      "const          9.7985      0.157     62.254      0.000       9.489      10.108\n",
      "rooms          0.2399      0.024     10.129      0.000       0.193       0.286\n",
      "==============================================================================\n",
      "Omnibus:                        2.258   Durbin-Watson:                   0.896\n",
      "Prob(Omnibus):                  0.323   Jarque-Bera (JB):                2.133\n",
      "Skew:                          -0.084   Prob(JB):                        0.344\n",
      "Kurtosis:                       3.363   Cond. No.                         50.2\n",
      "==============================================================================\n",
      "\n",
      "Notes:\n",
      "[1] Standard Errors assume that the covariance matrix of the errors is correctly specified.\n"
     ]
    }
   ],
   "source": [
    "print(result.summary())"
   ]
  },
  {
   "cell_type": "markdown",
   "id": "58c2391d-366c-4dbb-85be-860f44a86ab5",
   "metadata": {},
   "source": [
    "# reinvent the wheels : univarite OLS\n",
    "# $$b_1 = \\frac{cov(x,y)}{var(x)} = \\frac{ \\sum_i (x - \\overline{x}) (y - \\overline{y}) }{ \\sum_i (x-\\overline{x})^2 }$$"
   ]
  },
  {
   "cell_type": "code",
   "execution_count": 19,
   "id": "16bc2aed-d865-466f-b035-f7ffc7f60a58",
   "metadata": {},
   "outputs": [
    {
     "data": {
      "text/plain": [
       "array([[0.19199684, 0.19480189],\n",
       "       [0.19480189, 0.812169  ]])"
      ]
     },
     "execution_count": 19,
     "metadata": {},
     "output_type": "execute_result"
    }
   ],
   "source": [
    "np.cov(df['lprice'], df['rooms'])"
   ]
  },
  {
   "cell_type": "code",
   "execution_count": 21,
   "id": "28382d0e-585f-4e48-be0e-ba053574223a",
   "metadata": {},
   "outputs": [
    {
     "data": {
      "text/plain": [
       "0.19480188933021805"
      ]
     },
     "execution_count": 21,
     "metadata": {},
     "output_type": "execute_result"
    }
   ],
   "source": [
    "cov_xy = np.cov(df['lprice'], df['rooms'])[1, 0]\n",
    "\n",
    "cov_xy"
   ]
  },
  {
   "cell_type": "code",
   "execution_count": 23,
   "id": "86f6addb-7b78-447c-8d47-458075588918",
   "metadata": {},
   "outputs": [
    {
     "data": {
      "text/plain": [
       "array(0.812169)"
      ]
     },
     "execution_count": 23,
     "metadata": {},
     "output_type": "execute_result"
    }
   ],
   "source": [
    "var_x = np.cov(df['rooms'])\n",
    "\n",
    "var_x"
   ]
  },
  {
   "cell_type": "code",
   "execution_count": 24,
   "id": "71670962-9426-40a0-9f81-013c29c8b801",
   "metadata": {},
   "outputs": [
    {
     "data": {
      "text/plain": [
       "0.23985388334571905"
      ]
     },
     "execution_count": 24,
     "metadata": {},
     "output_type": "execute_result"
    }
   ],
   "source": [
    "b1 = cov_xy/var_x\n",
    "\n",
    "b1"
   ]
  },
  {
   "cell_type": "markdown",
   "id": "0a659634-356d-466c-9cce-701a248544d1",
   "metadata": {},
   "source": [
    "# intercept $$b_0 = \\overline{y} - b_1 \\cdot \\overline{x}$$"
   ]
  },
  {
   "cell_type": "code",
   "execution_count": 25,
   "id": "5499b760-1c0f-46b2-9320-62ffe0217045",
   "metadata": {},
   "outputs": [
    {
     "data": {
      "text/plain": [
       "9.798519525255918"
      ]
     },
     "execution_count": 25,
     "metadata": {},
     "output_type": "execute_result"
    }
   ],
   "source": [
    "b0 = np.mean(df['lprice']) - b1 * np.mean(df['rooms'])\n",
    "\n",
    "b0"
   ]
  },
  {
   "cell_type": "markdown",
   "id": "c90824ba-7f05-4caa-a76b-89e960b46e64",
   "metadata": {},
   "source": [
    "# predicted value of y $$\\widehat{y} = b_0 + b_1 \\cdot x$$"
   ]
  },
  {
   "cell_type": "code",
   "execution_count": 26,
   "id": "e3425666-b5aa-4a0a-a913-3a79ba4a0df1",
   "metadata": {},
   "outputs": [],
   "source": [
    "df['yhat'] = b0 + b1 * df['rooms']"
   ]
  },
  {
   "cell_type": "code",
   "execution_count": 27,
   "id": "d35f096a-6e18-4804-bab4-4fe22cfe107e",
   "metadata": {},
   "outputs": [
    {
     "data": {
      "text/plain": [
       "count    321.000000\n",
       "mean      11.378118\n",
       "std        0.216157\n",
       "min       10.757935\n",
       "25%       11.237643\n",
       "50%       11.477497\n",
       "75%       11.477497\n",
       "max       12.197058\n",
       "Name: yhat, dtype: float64"
      ]
     },
     "execution_count": 27,
     "metadata": {},
     "output_type": "execute_result"
    }
   ],
   "source": [
    "df['yhat'].describe()"
   ]
  },
  {
   "cell_type": "code",
   "execution_count": 28,
   "id": "4a9c4a8d-ed03-4b99-92be-f74a22952254",
   "metadata": {},
   "outputs": [
    {
     "data": {
      "text/plain": [
       "<AxesSubplot:>"
      ]
     },
     "execution_count": 28,
     "metadata": {},
     "output_type": "execute_result"
    },
    {
     "data": {
      "image/png": "[encoded data removed]",
      "text/plain": [
       "<Figure size 432x288 with 1 Axes>"
      ]
     },
     "metadata": {
      "needs_background": "light"
     },
     "output_type": "display_data"
    }
   ],
   "source": [
    "df['yhat'].hist()"
   ]
  },
  {
   "cell_type": "markdown",
   "id": "5e46bb70-815e-40c1-86df-cc8c1d994cb2",
   "metadata": {},
   "source": [
    "# predicted value of u (aka the prediction error of y) $$\\widehat{u} = y - \\widehat{y}$$"
   ]
  },
  {
   "cell_type": "code",
   "execution_count": 29,
   "id": "5def85dc-76dc-4952-815a-ea0466062e4a",
   "metadata": {},
   "outputs": [],
   "source": [
    "df['uhat'] = df['lprice'] - df['yhat']"
   ]
  },
  {
   "cell_type": "code",
   "execution_count": 30,
   "id": "c8e00d4c-0822-4db8-952e-a411d7c628d8",
   "metadata": {},
   "outputs": [
    {
     "data": {
      "text/plain": [
       "count    3.210000e+02\n",
       "mean     1.527335e-15\n",
       "std      3.811468e-01\n",
       "min     -1.311645e+00\n",
       "25%     -2.259357e-01\n",
       "50%     -2.644671e-02\n",
       "75%      2.448242e-01\n",
       "max      1.134041e+00\n",
       "Name: uhat, dtype: float64"
      ]
     },
     "execution_count": 30,
     "metadata": {},
     "output_type": "execute_result"
    }
   ],
   "source": [
    "df['uhat'].describe()"
   ]
  },
  {
   "cell_type": "code",
   "execution_count": 31,
   "id": "c2d3c376-7f28-4255-8f31-10eb38d7fda0",
   "metadata": {},
   "outputs": [
    {
     "data": {
      "text/plain": [
       "<AxesSubplot:>"
      ]
     },
     "execution_count": 31,
     "metadata": {},
     "output_type": "execute_result"
    },
    {
     "data": {
      "image/png": "[encoded data removed]",
      "text/plain": [
       "<Figure size 432x288 with 1 Axes>"
      ]
     },
     "metadata": {
      "needs_background": "light"
     },
     "output_type": "display_data"
    }
   ],
   "source": [
    "df['uhat'].hist()"
   ]
  },
  {
   "cell_type": "markdown",
   "id": "d6d88261-2a30-4c6d-9ca6-eac6a96519e1",
   "metadata": {},
   "source": [
    "# calculate the values for regression inference\n",
    "\n",
    "# TSS $$ TSS = \\sum_i (y_i - \\overline{y} )^2 = \\mathrm{var}(y) \\cdot (n-1)$$"
   ]
  },
  {
   "cell_type": "code",
   "execution_count": 32,
   "id": "80e03f67-0e30-4cd4-88ad-a426ee9bf07d",
   "metadata": {},
   "outputs": [
    {
     "data": {
      "text/plain": [
       "61.438988950382985"
      ]
     },
     "execution_count": 32,
     "metadata": {},
     "output_type": "execute_result"
    }
   ],
   "source": [
    "TSS = np.cov(df['lprice']) * ( len(df['lprice']) - 1)\n",
    "\n",
    "TSS"
   ]
  },
  {
   "cell_type": "markdown",
   "id": "03034ecf-247f-4498-9d21-2e450075d1a6",
   "metadata": {
    "tags": []
   },
   "source": [
    "# RSS $$ RSS = \\sum_i (\\widehat{u}_i )^2 = \\mathrm{var}(\\widehat{u}) \\cdot (n - 1 - 1)$$"
   ]
  },
  {
   "cell_type": "code",
   "execution_count": 35,
   "id": "ae517eff-2a1c-4053-9504-23b2714a46a3",
   "metadata": {},
   "outputs": [
    {
     "data": {
      "text/plain": [
       "46.48731226592352"
      ]
     },
     "execution_count": 35,
     "metadata": {},
     "output_type": "execute_result"
    }
   ],
   "source": [
    "RSS = np.cov(df['uhat']) *  ( len(df['lprice']) - 1)\n",
    "\n",
    "RSS"
   ]
  },
  {
   "cell_type": "markdown",
   "id": "221ef371-2ea3-410f-9ddf-e05901b9b1bc",
   "metadata": {
    "tags": []
   },
   "source": [
    "# ESS $$ ESS = TSS - RSS$$"
   ]
  },
  {
   "cell_type": "code",
   "execution_count": 36,
   "id": "573fba90-52b4-475c-a737-b069424f66a9",
   "metadata": {},
   "outputs": [
    {
     "data": {
      "text/plain": [
       "14.951676684459464"
      ]
     },
     "execution_count": 36,
     "metadata": {},
     "output_type": "execute_result"
    }
   ],
   "source": [
    "ESS = TSS - RSS\n",
    "\n",
    "ESS"
   ]
  },
  {
   "cell_type": "markdown",
   "id": "85813827-55af-400d-8db9-36ca43316b3e",
   "metadata": {
    "tags": []
   },
   "source": [
    "# $R^2$ $$ R^2 = ESS/TSS = 1 - RSS/TSS$$"
   ]
  },
  {
   "cell_type": "code",
   "execution_count": 38,
   "id": "d3194bf0-35d0-490f-91ac-3b774b6bd9ba",
   "metadata": {},
   "outputs": [
    {
     "data": {
      "text/plain": [
       "0.2433581173761529"
      ]
     },
     "execution_count": 38,
     "metadata": {},
     "output_type": "execute_result"
    }
   ],
   "source": [
    "R2 = ESS/TSS\n",
    "\n",
    "R2"
   ]
  },
  {
   "cell_type": "markdown",
   "id": "fa4a6962-f4a7-4078-9633-2ef69f278a75",
   "metadata": {
    "tags": []
   },
   "source": [
    "# adjusted $R^2$ $$ \\overline{R}^2 = 1 - \\frac{RSS/(n-1-1)}{TSS/(n-1)}$$"
   ]
  },
  {
   "cell_type": "code",
   "execution_count": 39,
   "id": "6279430d-dc91-4f1a-bd67-591e8244b722",
   "metadata": {},
   "outputs": [
    {
     "data": {
      "text/plain": [
       "0.24098619924880538"
      ]
     },
     "execution_count": 39,
     "metadata": {},
     "output_type": "execute_result"
    }
   ],
   "source": [
    "R2_a = 1 - (RSS / ( len(df['lprice']) - 1 - 1 ) ) / (TSS / ( len(df['lprice']) - 1 ) )\n",
    "\n",
    "R2_a"
   ]
  },
  {
   "cell_type": "markdown",
   "id": "ee5fd0a3-fa38-4ef8-b131-51ef82c0de20",
   "metadata": {
    "tags": []
   },
   "source": [
    "# se of $b_1$ $$se_{b_1} = \\sqrt{ \\frac{ var(\\widehat{u})}{ \\sum_i (x - \\overline{x})^2} } = \\sqrt{ \\frac{ var(\\widehat{u})}{ var(x) \\cdot (n-1) }}$$"
   ]
  },
  {
   "cell_type": "code",
   "execution_count": 41,
   "id": "eb093145-1efd-46ad-929b-02501a34833c",
   "metadata": {},
   "outputs": [
    {
     "data": {
      "text/plain": [
       "0.02367956297520075"
      ]
     },
     "execution_count": 41,
     "metadata": {},
     "output_type": "execute_result"
    }
   ],
   "source": [
    "var_u = RSS / (len(df['lprice']) - 1 - 1)\n",
    "\n",
    "se_b1 = np.sqrt( var_u / (np.cov(df['rooms']) * (len(df['lprice']) - 1) ))\n",
    "\n",
    "se_b1"
   ]
  },
  {
   "cell_type": "markdown",
   "id": "5a319329-13c1-4153-8efd-605676134c73",
   "metadata": {},
   "source": [
    "# t value for $b_1$ $$ t_{b_1} = b_1 / se_{b_1} $$"
   ]
  },
  {
   "cell_type": "code",
   "execution_count": 42,
   "id": "5f5a5122-daa0-4b12-ae79-8614666683dc",
   "metadata": {},
   "outputs": [
    {
     "data": {
      "text/plain": [
       "10.129151606257025"
      ]
     },
     "execution_count": 42,
     "metadata": {},
     "output_type": "execute_result"
    }
   ],
   "source": [
    "t_b1 = b1 / se_b1\n",
    "\n",
    "t_b1"
   ]
  },
  {
   "cell_type": "markdown",
   "id": "dd203b7b-6b2a-4c27-8971-0525be5fd50b",
   "metadata": {},
   "source": [
    "# two-tailed p-value for $t_{b_1}$"
   ]
  },
  {
   "cell_type": "code",
   "execution_count": 43,
   "id": "822fcbf1-336a-46fa-a644-f07370791e02",
   "metadata": {},
   "outputs": [
    {
     "data": {
      "text/plain": [
       "4.320029628125147e-21"
      ]
     },
     "execution_count": 43,
     "metadata": {},
     "output_type": "execute_result"
    }
   ],
   "source": [
    "p_b1 = 2 * sp.stats.t.sf( np.abs(t_b1),  len(df['lprice']) - 1 - 1)\n",
    "\n",
    "p_b1"
   ]
  },
  {
   "cell_type": "markdown",
   "id": "ba4c10d5-29c7-4139-801a-4a9c74258c25",
   "metadata": {},
   "source": [
    "# the upper/lower bound for the CI of slope\n",
    "# $$ up = b_1 + c \\cdot se_{b_1}$$\n",
    "# $$ lo = b_1 - c \\cdot se_{b_1}$$"
   ]
  },
  {
   "cell_type": "code",
   "execution_count": 44,
   "id": "17834df0-48b1-4d62-bb11-6d527f09af92",
   "metadata": {},
   "outputs": [
    {
     "name": "stdout",
     "output_type": "stream",
     "text": [
      "0.28644172773256615\n",
      "0.19326603895887198\n"
     ]
    }
   ],
   "source": [
    "c = sp.stats.t.ppf(0.975, len(df['rooms']) - 1 - 1)\n",
    "\n",
    "b1_up = b1 + c * se_b1\n",
    "b1_lo = b1 - c * se_b1\n",
    "\n",
    "print(b1_up)\n",
    "print(b1_lo)"
   ]
  },
  {
   "cell_type": "markdown",
   "id": "1f9e36f7-5045-4984-9bab-d18b322e894b",
   "metadata": {
    "tags": []
   },
   "source": [
    "# se of $b_0$ $$se_{b_0} = \\sqrt{ var( \\widehat{u} ) \\cdot \\left( \\frac{1}{n} + \\frac{ \\overline{x}^2 }{\\sum_i (x_i - \\overline{x} )^2 }\\right) }$$"
   ]
  },
  {
   "cell_type": "code",
   "execution_count": 46,
   "id": "23feb89e-9409-4ad4-8459-0afc1697f203",
   "metadata": {},
   "outputs": [
    {
     "data": {
      "text/plain": [
       "0.15739462862619946"
      ]
     },
     "execution_count": 46,
     "metadata": {},
     "output_type": "execute_result"
    }
   ],
   "source": [
    "se_b0 = np.sqrt( var_u * (1 / len(df['rooms']) + np.power( np.mean(df['rooms']), 2) / ( np.cov(df['rooms']) * (len(df['rooms']) - 1) )  ) )\n",
    "\n",
    "se_b0"
   ]
  },
  {
   "cell_type": "markdown",
   "id": "fd8949ed-c9f5-4807-9ead-1f1644a28153",
   "metadata": {},
   "source": [
    "# t value for $b_0$ $$ t_{b_0} = b_0 / se_{b_0} $$"
   ]
  },
  {
   "cell_type": "code",
   "execution_count": 47,
   "id": "c25df15d-8ad8-4d8e-88e7-0ce1b4381487",
   "metadata": {},
   "outputs": [
    {
     "data": {
      "text/plain": [
       "62.25447215563291"
      ]
     },
     "execution_count": 47,
     "metadata": {},
     "output_type": "execute_result"
    }
   ],
   "source": [
    "t_b0 = b0 / se_b0\n",
    "\n",
    "t_b0"
   ]
  },
  {
   "cell_type": "markdown",
   "id": "35552559-b6cd-418b-bf10-f034a0956bdf",
   "metadata": {},
   "source": [
    "# two-tailed p-value for $t_{b_0}$"
   ]
  },
  {
   "cell_type": "code",
   "execution_count": 48,
   "id": "4401887c-93c9-4a11-a3a8-02bfa2f9a404",
   "metadata": {},
   "outputs": [
    {
     "data": {
      "text/plain": [
       "1.5919185397026186e-180"
      ]
     },
     "execution_count": 48,
     "metadata": {},
     "output_type": "execute_result"
    }
   ],
   "source": [
    "p_b0 = 2 * sp.stats.t.sf( np.abs(t_b0),  len(df['lprice']) - 1 - 1)\n",
    "\n",
    "p_b0"
   ]
  },
  {
   "cell_type": "markdown",
   "id": "a5073254-67ba-4313-9dab-efe51e43bab8",
   "metadata": {},
   "source": [
    "# the upper/lower bound for the CI of intercept\n",
    "# $$ up = b_0 + c \\cdot se_{b_0}$$\n",
    "# $$ lo = b_0 - c \\cdot se_{b_0}$$"
   ]
  },
  {
   "cell_type": "code",
   "execution_count": 49,
   "id": "1a8e77f6-f300-470f-954e-c1c9928dfd41",
   "metadata": {},
   "outputs": [
    {
     "name": "stdout",
     "output_type": "stream",
     "text": [
      "10.108182185561024\n",
      "9.488856864950812\n"
     ]
    }
   ],
   "source": [
    "c = sp.stats.t.ppf(0.975, len(df['rooms']) - 1 - 1)\n",
    "\n",
    "b0_up = b0 + c * se_b0\n",
    "b0_lo = b0 - c * se_b0\n",
    "\n",
    "print(b0_up)\n",
    "print(b0_lo)"
   ]
  },
  {
   "cell_type": "code",
   "execution_count": null,
   "id": "85714b47-7f59-4298-84a8-29ae19d79976",
   "metadata": {},
   "outputs": [],
   "source": []
  }
 ],
 "metadata": {
  "kernelspec": {
   "display_name": "Python 3 (ipykernel)",
   "language": "python",
   "name": "python3"
  },
  "language_info": {
   "codemirror_mode": {
    "name": "ipython",
    "version": 3
   },
   "file_extension": ".py",
   "mimetype": "text/x-python",
   "name": "python",
   "nbconvert_exporter": "python",
   "pygments_lexer": "ipython3",
   "version": "3.9.7"
  }
 },
 "nbformat": 4,
 "nbformat_minor": 5
}
